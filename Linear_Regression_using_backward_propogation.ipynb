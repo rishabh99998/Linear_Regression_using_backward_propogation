{
 "cells": [
  {
   "cell_type": "code",
   "execution_count": 1,
   "metadata": {},
   "outputs": [],
   "source": [
    "import torch"
   ]
  },
  {
   "cell_type": "code",
   "execution_count": 9,
   "metadata": {},
   "outputs": [],
   "source": [
    "#linear regression formula we will use for this example F => weight * input \n",
    "X = torch.tensor([1,2,3,4],dtype=torch.float32)\n",
    "Y = torch.tensor([3,6,9,12],dtype=torch.float32)\n",
    "w = torch.tensor(0.0,dtype=torch.float32,requires_grad=True)"
   ]
  },
  {
   "cell_type": "code",
   "execution_count": 10,
   "metadata": {},
   "outputs": [],
   "source": [
    "#Model output\n",
    "def forward(x):\n",
    "    return w*x"
   ]
  },
  {
   "cell_type": "code",
   "execution_count": 11,
   "metadata": {},
   "outputs": [],
   "source": [
    "#loss\n",
    "def loss(y,y_pred):\n",
    "    return ((y_pred-y)**2).mean()"
   ]
  },
  {
   "cell_type": "code",
   "execution_count": 12,
   "metadata": {},
   "outputs": [
    {
     "name": "stdout",
     "output_type": "stream",
     "text": [
      "Prediction before training: f(5)=0.000\n"
     ]
    }
   ],
   "source": [
    "print(f'Prediction before training: f(5)={forward(5).item():.3f}')"
   ]
  },
  {
   "cell_type": "code",
   "execution_count": 13,
   "metadata": {},
   "outputs": [
    {
     "name": "stdout",
     "output_type": "stream",
     "text": [
      "epoch 1: w = 0.450, loss = 67.50000000\n",
      "epoch 11: w = 2.498, loss = 2.61626792\n",
      "epoch 21: w = 2.901, loss = 0.10140543\n",
      "epoch 31: w = 2.981, loss = 0.00393051\n",
      "epoch 41: w = 2.996, loss = 0.00015233\n",
      "epoch 51: w = 2.999, loss = 0.00000590\n",
      "epoch 61: w = 3.000, loss = 0.00000023\n",
      "epoch 71: w = 3.000, loss = 0.00000001\n",
      "epoch 81: w = 3.000, loss = 0.00000000\n",
      "epoch 91: w = 3.000, loss = 0.00000000\n",
      "Prediction after training: f(5) = 15.000\n"
     ]
    }
   ],
   "source": [
    "#training\n",
    "learning_rate=0.01\n",
    "n_iters = 100\n",
    "\n",
    "for epoch in range(n_iters):\n",
    "    #predict = forward_pass\n",
    "    y_pred = forward(X)\n",
    "    \n",
    "    #loss\n",
    "    l = loss(Y,y_pred)\n",
    "    \n",
    "    #Calculate gradient\n",
    "    l.backward()\n",
    "    \n",
    "    #Update weights\n",
    "    #w.data = w.data - learning rate*w.grad\n",
    "    with torch.no_grad():\n",
    "        w -=learning_rate*w.grad\n",
    "    \n",
    "    #zero the gradient after updating\n",
    "    w.grad.zero_()\n",
    "    \n",
    "    if epoch % 10 == 0:\n",
    "        print(f'epoch {epoch+1}: w = {w.item():.3f}, loss = {l.item():.8f}')\n",
    "\n",
    "print(f'Prediction after training: f(5) = {forward(5).item():.3f}')"
   ]
  },
  {
   "cell_type": "code",
   "execution_count": null,
   "metadata": {},
   "outputs": [],
   "source": []
  }
 ],
 "metadata": {
  "kernelspec": {
   "display_name": "Python 3",
   "language": "python",
   "name": "python3"
  },
  "language_info": {
   "codemirror_mode": {
    "name": "ipython",
    "version": 3
   },
   "file_extension": ".py",
   "mimetype": "text/x-python",
   "name": "python",
   "nbconvert_exporter": "python",
   "pygments_lexer": "ipython3",
   "version": "3.8.5"
  }
 },
 "nbformat": 4,
 "nbformat_minor": 4
}
